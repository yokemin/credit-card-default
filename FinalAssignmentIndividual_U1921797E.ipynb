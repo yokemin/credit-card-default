{
 "cells": [
  {
   "cell_type": "markdown",
   "metadata": {},
   "source": [
    "## Week 7 Final Assignment (Individual)\n",
    "### Woon Yoke Min   U1921797E\n",
    "### Credit Card Default\n",
    "### Deployed on Heroku: https://yokemin-credit-card-default.herokuapp.com/\n",
    "#### ** Assumptions for models are written at the bottom"
   ]
  },
  {
   "cell_type": "code",
   "execution_count": 1,
   "metadata": {},
   "outputs": [],
   "source": [
    "import pandas as pd\n",
    "pd.set_option('display.max_rows', 10)"
   ]
  },
  {
   "cell_type": "markdown",
   "metadata": {},
   "source": [
    "### Import Data"
   ]
  },
  {
   "cell_type": "code",
   "execution_count": 2,
   "metadata": {},
   "outputs": [],
   "source": [
    "df = pd.read_csv(\"Credit Card Default II (balance).csv\")"
   ]
  },
  {
   "cell_type": "code",
   "execution_count": 3,
   "metadata": {},
   "outputs": [
    {
     "data": {
      "text/html": [
       "<div>\n",
       "<style scoped>\n",
       "    .dataframe tbody tr th:only-of-type {\n",
       "        vertical-align: middle;\n",
       "    }\n",
       "\n",
       "    .dataframe tbody tr th {\n",
       "        vertical-align: top;\n",
       "    }\n",
       "\n",
       "    .dataframe thead th {\n",
       "        text-align: right;\n",
       "    }\n",
       "</style>\n",
       "<table border=\"1\" class=\"dataframe\">\n",
       "  <thead>\n",
       "    <tr style=\"text-align: right;\">\n",
       "      <th></th>\n",
       "      <th>income</th>\n",
       "      <th>age</th>\n",
       "      <th>loan</th>\n",
       "      <th>default</th>\n",
       "    </tr>\n",
       "  </thead>\n",
       "  <tbody>\n",
       "    <tr>\n",
       "      <th>0</th>\n",
       "      <td>66155.925100</td>\n",
       "      <td>59.017015</td>\n",
       "      <td>8106.532131</td>\n",
       "      <td>0</td>\n",
       "    </tr>\n",
       "    <tr>\n",
       "      <th>1</th>\n",
       "      <td>34415.153970</td>\n",
       "      <td>48.117153</td>\n",
       "      <td>6564.745018</td>\n",
       "      <td>0</td>\n",
       "    </tr>\n",
       "    <tr>\n",
       "      <th>2</th>\n",
       "      <td>57317.170060</td>\n",
       "      <td>63.108049</td>\n",
       "      <td>8020.953296</td>\n",
       "      <td>0</td>\n",
       "    </tr>\n",
       "    <tr>\n",
       "      <th>3</th>\n",
       "      <td>42709.534200</td>\n",
       "      <td>45.751972</td>\n",
       "      <td>6103.642260</td>\n",
       "      <td>0</td>\n",
       "    </tr>\n",
       "    <tr>\n",
       "      <th>4</th>\n",
       "      <td>66952.688850</td>\n",
       "      <td>18.584336</td>\n",
       "      <td>8770.099235</td>\n",
       "      <td>1</td>\n",
       "    </tr>\n",
       "    <tr>\n",
       "      <th>...</th>\n",
       "      <td>...</td>\n",
       "      <td>...</td>\n",
       "      <td>...</td>\n",
       "      <td>...</td>\n",
       "    </tr>\n",
       "    <tr>\n",
       "      <th>3423</th>\n",
       "      <td>60903.191726</td>\n",
       "      <td>21.933924</td>\n",
       "      <td>10367.081892</td>\n",
       "      <td>1</td>\n",
       "    </tr>\n",
       "    <tr>\n",
       "      <th>3424</th>\n",
       "      <td>62235.644695</td>\n",
       "      <td>25.033016</td>\n",
       "      <td>8083.900063</td>\n",
       "      <td>1</td>\n",
       "    </tr>\n",
       "    <tr>\n",
       "      <th>3425</th>\n",
       "      <td>25597.850590</td>\n",
       "      <td>26.350344</td>\n",
       "      <td>3810.110335</td>\n",
       "      <td>1</td>\n",
       "    </tr>\n",
       "    <tr>\n",
       "      <th>3426</th>\n",
       "      <td>48164.194974</td>\n",
       "      <td>23.141976</td>\n",
       "      <td>6529.652892</td>\n",
       "      <td>1</td>\n",
       "    </tr>\n",
       "    <tr>\n",
       "      <th>3427</th>\n",
       "      <td>33055.808635</td>\n",
       "      <td>26.289612</td>\n",
       "      <td>5351.851138</td>\n",
       "      <td>1</td>\n",
       "    </tr>\n",
       "  </tbody>\n",
       "</table>\n",
       "<p>3428 rows × 4 columns</p>\n",
       "</div>"
      ],
      "text/plain": [
       "            income        age          loan  default\n",
       "0     66155.925100  59.017015   8106.532131        0\n",
       "1     34415.153970  48.117153   6564.745018        0\n",
       "2     57317.170060  63.108049   8020.953296        0\n",
       "3     42709.534200  45.751972   6103.642260        0\n",
       "4     66952.688850  18.584336   8770.099235        1\n",
       "...            ...        ...           ...      ...\n",
       "3423  60903.191726  21.933924  10367.081892        1\n",
       "3424  62235.644695  25.033016   8083.900063        1\n",
       "3425  25597.850590  26.350344   3810.110335        1\n",
       "3426  48164.194974  23.141976   6529.652892        1\n",
       "3427  33055.808635  26.289612   5351.851138        1\n",
       "\n",
       "[3428 rows x 4 columns]"
      ]
     },
     "execution_count": 3,
     "metadata": {},
     "output_type": "execute_result"
    }
   ],
   "source": [
    "df"
   ]
  },
  {
   "cell_type": "code",
   "execution_count": 4,
   "metadata": {},
   "outputs": [
    {
     "data": {
      "text/html": [
       "<div>\n",
       "<style scoped>\n",
       "    .dataframe tbody tr th:only-of-type {\n",
       "        vertical-align: middle;\n",
       "    }\n",
       "\n",
       "    .dataframe tbody tr th {\n",
       "        vertical-align: top;\n",
       "    }\n",
       "\n",
       "    .dataframe thead th {\n",
       "        text-align: right;\n",
       "    }\n",
       "</style>\n",
       "<table border=\"1\" class=\"dataframe\">\n",
       "  <thead>\n",
       "    <tr style=\"text-align: right;\">\n",
       "      <th></th>\n",
       "      <th>income</th>\n",
       "      <th>age</th>\n",
       "      <th>loan</th>\n",
       "      <th>default</th>\n",
       "    </tr>\n",
       "  </thead>\n",
       "  <tbody>\n",
       "    <tr>\n",
       "      <th>count</th>\n",
       "      <td>3428.000000</td>\n",
       "      <td>3428.000000</td>\n",
       "      <td>3428.000000</td>\n",
       "      <td>3428.000000</td>\n",
       "    </tr>\n",
       "    <tr>\n",
       "      <th>mean</th>\n",
       "      <td>45136.875975</td>\n",
       "      <td>34.795950</td>\n",
       "      <td>5591.986695</td>\n",
       "      <td>0.500000</td>\n",
       "    </tr>\n",
       "    <tr>\n",
       "      <th>std</th>\n",
       "      <td>14425.486619</td>\n",
       "      <td>12.840055</td>\n",
       "      <td>3174.522430</td>\n",
       "      <td>0.500073</td>\n",
       "    </tr>\n",
       "    <tr>\n",
       "      <th>min</th>\n",
       "      <td>20014.489470</td>\n",
       "      <td>-52.423280</td>\n",
       "      <td>1.377630</td>\n",
       "      <td>0.000000</td>\n",
       "    </tr>\n",
       "    <tr>\n",
       "      <th>25%</th>\n",
       "      <td>32827.211177</td>\n",
       "      <td>25.171939</td>\n",
       "      <td>3103.357467</td>\n",
       "      <td>0.000000</td>\n",
       "    </tr>\n",
       "    <tr>\n",
       "      <th>50%</th>\n",
       "      <td>45546.632873</td>\n",
       "      <td>30.086842</td>\n",
       "      <td>5540.305046</td>\n",
       "      <td>0.500000</td>\n",
       "    </tr>\n",
       "    <tr>\n",
       "      <th>75%</th>\n",
       "      <td>57514.794130</td>\n",
       "      <td>44.369461</td>\n",
       "      <td>7809.377943</td>\n",
       "      <td>1.000000</td>\n",
       "    </tr>\n",
       "    <tr>\n",
       "      <th>max</th>\n",
       "      <td>69995.685580</td>\n",
       "      <td>63.971796</td>\n",
       "      <td>13766.051240</td>\n",
       "      <td>1.000000</td>\n",
       "    </tr>\n",
       "  </tbody>\n",
       "</table>\n",
       "</div>"
      ],
      "text/plain": [
       "             income          age          loan      default\n",
       "count   3428.000000  3428.000000   3428.000000  3428.000000\n",
       "mean   45136.875975    34.795950   5591.986695     0.500000\n",
       "std    14425.486619    12.840055   3174.522430     0.500073\n",
       "min    20014.489470   -52.423280      1.377630     0.000000\n",
       "25%    32827.211177    25.171939   3103.357467     0.000000\n",
       "50%    45546.632873    30.086842   5540.305046     0.500000\n",
       "75%    57514.794130    44.369461   7809.377943     1.000000\n",
       "max    69995.685580    63.971796  13766.051240     1.000000"
      ]
     },
     "execution_count": 4,
     "metadata": {},
     "output_type": "execute_result"
    }
   ],
   "source": [
    "df.describe()"
   ]
  },
  {
   "cell_type": "markdown",
   "metadata": {},
   "source": [
    "### Check any imbalance"
   ]
  },
  {
   "cell_type": "code",
   "execution_count": 5,
   "metadata": {},
   "outputs": [
    {
     "data": {
      "text/plain": [
       "1    1714\n",
       "0    1714\n",
       "Name: default, dtype: int64"
      ]
     },
     "execution_count": 5,
     "metadata": {},
     "output_type": "execute_result"
    }
   ],
   "source": [
    "df[\"default\"].value_counts()"
   ]
  },
  {
   "cell_type": "markdown",
   "metadata": {},
   "source": [
    "Assumption: Data is balanced."
   ]
  },
  {
   "cell_type": "markdown",
   "metadata": {},
   "source": [
    "### Check correlation"
   ]
  },
  {
   "cell_type": "code",
   "execution_count": 6,
   "metadata": {},
   "outputs": [
    {
     "data": {
      "text/html": [
       "<div>\n",
       "<style scoped>\n",
       "    .dataframe tbody tr th:only-of-type {\n",
       "        vertical-align: middle;\n",
       "    }\n",
       "\n",
       "    .dataframe tbody tr th {\n",
       "        vertical-align: top;\n",
       "    }\n",
       "\n",
       "    .dataframe thead th {\n",
       "        text-align: right;\n",
       "    }\n",
       "</style>\n",
       "<table border=\"1\" class=\"dataframe\">\n",
       "  <thead>\n",
       "    <tr style=\"text-align: right;\">\n",
       "      <th></th>\n",
       "      <th>income</th>\n",
       "      <th>age</th>\n",
       "      <th>loan</th>\n",
       "      <th>default</th>\n",
       "    </tr>\n",
       "  </thead>\n",
       "  <tbody>\n",
       "    <tr>\n",
       "      <th>income</th>\n",
       "      <td>1.000000</td>\n",
       "      <td>-0.028192</td>\n",
       "      <td>0.556173</td>\n",
       "      <td>-0.012761</td>\n",
       "    </tr>\n",
       "    <tr>\n",
       "      <th>age</th>\n",
       "      <td>-0.028192</td>\n",
       "      <td>1.000000</td>\n",
       "      <td>-0.247657</td>\n",
       "      <td>-0.653537</td>\n",
       "    </tr>\n",
       "    <tr>\n",
       "      <th>loan</th>\n",
       "      <td>0.556173</td>\n",
       "      <td>-0.247657</td>\n",
       "      <td>1.000000</td>\n",
       "      <td>0.508285</td>\n",
       "    </tr>\n",
       "    <tr>\n",
       "      <th>default</th>\n",
       "      <td>-0.012761</td>\n",
       "      <td>-0.653537</td>\n",
       "      <td>0.508285</td>\n",
       "      <td>1.000000</td>\n",
       "    </tr>\n",
       "  </tbody>\n",
       "</table>\n",
       "</div>"
      ],
      "text/plain": [
       "           income       age      loan   default\n",
       "income   1.000000 -0.028192  0.556173 -0.012761\n",
       "age     -0.028192  1.000000 -0.247657 -0.653537\n",
       "loan     0.556173 -0.247657  1.000000  0.508285\n",
       "default -0.012761 -0.653537  0.508285  1.000000"
      ]
     },
     "execution_count": 6,
     "metadata": {},
     "output_type": "execute_result"
    }
   ],
   "source": [
    "df.corr()"
   ]
  },
  {
   "cell_type": "markdown",
   "metadata": {},
   "source": [
    "### Data Cleaning"
   ]
  },
  {
   "cell_type": "markdown",
   "metadata": {},
   "source": [
    "#### Remove NA Values"
   ]
  },
  {
   "cell_type": "code",
   "execution_count": 7,
   "metadata": {},
   "outputs": [
    {
     "name": "stdout",
     "output_type": "stream",
     "text": [
      "income     0\n",
      "age        0\n",
      "loan       0\n",
      "default    0\n",
      "dtype: int64\n"
     ]
    }
   ],
   "source": [
    "# Check for null values\n",
    "print(df.isnull().sum().sort_values())   \n",
    "\n",
    "# There are no rows with null values"
   ]
  },
  {
   "cell_type": "markdown",
   "metadata": {},
   "source": [
    "#### Remove Not A Number"
   ]
  },
  {
   "cell_type": "code",
   "execution_count": 8,
   "metadata": {},
   "outputs": [],
   "source": [
    " for i in df.columns:\n",
    "    df1 = pd.to_numeric(df[i], errors = 'coerce')\n",
    "    df = df[df1.notnull()]  # make it to null then remove null"
   ]
  },
  {
   "cell_type": "code",
   "execution_count": 9,
   "metadata": {},
   "outputs": [
    {
     "name": "stdout",
     "output_type": "stream",
     "text": [
      "            income        age          loan  default\n",
      "0     66155.925100  59.017015   8106.532131        0\n",
      "1     34415.153970  48.117153   6564.745018        0\n",
      "2     57317.170060  63.108049   8020.953296        0\n",
      "3     42709.534200  45.751972   6103.642260        0\n",
      "4     66952.688850  18.584336   8770.099235        1\n",
      "...            ...        ...           ...      ...\n",
      "3423  60903.191726  21.933924  10367.081892        1\n",
      "3424  62235.644695  25.033016   8083.900063        1\n",
      "3425  25597.850590  26.350344   3810.110335        1\n",
      "3426  48164.194974  23.141976   6529.652892        1\n",
      "3427  33055.808635  26.289612   5351.851138        1\n",
      "\n",
      "[3428 rows x 4 columns]\n"
     ]
    }
   ],
   "source": [
    "print(df)  # There are no rows with NAN"
   ]
  },
  {
   "cell_type": "markdown",
   "metadata": {},
   "source": [
    "#### Remove negative age values"
   ]
  },
  {
   "cell_type": "code",
   "execution_count": 10,
   "metadata": {},
   "outputs": [
    {
     "name": "stdout",
     "output_type": "stream",
     "text": [
      "         income        age         loan  default\n",
      "15  50501.72669 -28.218361  3977.287432        0\n",
      "21  32197.62070 -52.423280  4244.057136        0\n",
      "26  63287.03891 -36.496976  9595.286289        0\n"
     ]
    }
   ],
   "source": [
    "print(df[df.age<0])   # There are 3 rows where age is negative"
   ]
  },
  {
   "cell_type": "code",
   "execution_count": 11,
   "metadata": {},
   "outputs": [
    {
     "name": "stdout",
     "output_type": "stream",
     "text": [
      "            income        age          loan  default\n",
      "0     66155.925100  59.017015   8106.532131        0\n",
      "1     34415.153970  48.117153   6564.745018        0\n",
      "2     57317.170060  63.108049   8020.953296        0\n",
      "3     42709.534200  45.751972   6103.642260        0\n",
      "4     66952.688850  18.584336   8770.099235        1\n",
      "...            ...        ...           ...      ...\n",
      "3423  60903.191726  21.933924  10367.081892        1\n",
      "3424  62235.644695  25.033016   8083.900063        1\n",
      "3425  25597.850590  26.350344   3810.110335        1\n",
      "3426  48164.194974  23.141976   6529.652892        1\n",
      "3427  33055.808635  26.289612   5351.851138        1\n",
      "\n",
      "[3425 rows x 4 columns]\n"
     ]
    }
   ],
   "source": [
    "df = df[df.age>0]\n",
    "print(df)"
   ]
  },
  {
   "cell_type": "markdown",
   "metadata": {},
   "source": [
    "#### Remove Outliers"
   ]
  },
  {
   "cell_type": "code",
   "execution_count": 12,
   "metadata": {},
   "outputs": [],
   "source": [
    "import numpy as np\n",
    "from scipy import stats"
   ]
  },
  {
   "cell_type": "code",
   "execution_count": 13,
   "metadata": {},
   "outputs": [
    {
     "name": "stderr",
     "output_type": "stream",
     "text": [
      "C:\\Users\\woony\\anaconda3\\lib\\site-packages\\ipykernel_launcher.py:2: DeprecationWarning: `np.float` is a deprecated alias for the builtin `float`. To silence this warning, use `float` by itself. Doing this will not modify any behavior and is safe. If you specifically wanted the numpy scalar type, use `np.float64` here.\n",
      "Deprecated in NumPy 1.20; for more details and guidance: https://numpy.org/devdocs/release/1.20.0-notes.html#deprecations\n",
      "  \n"
     ]
    }
   ],
   "source": [
    "# Remove outlier\n",
    "z = stats.zscore(df.astype(np.float)) #zscore conversion need float\n",
    "z = np.abs(z) #convert all to positive because the parity is not important\n",
    "f = (z < 3).all(axis=1) #3 is your choice, axis =1 means by columns, f is a flag"
   ]
  },
  {
   "cell_type": "code",
   "execution_count": 14,
   "metadata": {},
   "outputs": [
    {
     "name": "stdout",
     "output_type": "stream",
     "text": [
      "            income        age          loan  default\n",
      "0     66155.925100  59.017015   8106.532131        0\n",
      "1     34415.153970  48.117153   6564.745018        0\n",
      "2     57317.170060  63.108049   8020.953296        0\n",
      "3     42709.534200  45.751972   6103.642260        0\n",
      "4     66952.688850  18.584336   8770.099235        1\n",
      "...            ...        ...           ...      ...\n",
      "3423  60903.191726  21.933924  10367.081892        1\n",
      "3424  62235.644695  25.033016   8083.900063        1\n",
      "3425  25597.850590  26.350344   3810.110335        1\n",
      "3426  48164.194974  23.141976   6529.652892        1\n",
      "3427  33055.808635  26.289612   5351.851138        1\n",
      "\n",
      "[3425 rows x 4 columns]\n"
     ]
    }
   ],
   "source": [
    "df = df[f]\n",
    "print(df)"
   ]
  },
  {
   "cell_type": "markdown",
   "metadata": {},
   "source": [
    "### Data Visualization"
   ]
  },
  {
   "cell_type": "code",
   "execution_count": 15,
   "metadata": {},
   "outputs": [],
   "source": [
    "import matplotlib.pyplot as plt"
   ]
  },
  {
   "cell_type": "code",
   "execution_count": 16,
   "metadata": {},
   "outputs": [
    {
     "data": {
      "text/plain": [
       "<matplotlib.axes._subplots.AxesSubplot at 0x2c5d502f748>"
      ]
     },
     "execution_count": 16,
     "metadata": {},
     "output_type": "execute_result"
    },
    {
     "data": {
      "image/png": "[encoded data removed]",
      "text/plain": [
       "<Figure size 432x288 with 1 Axes>"
      ]
     },
     "metadata": {
      "needs_background": "light"
     },
     "output_type": "display_data"
    }
   ],
   "source": [
    "df.boxplot()"
   ]
  },
  {
   "cell_type": "code",
   "execution_count": 17,
   "metadata": {},
   "outputs": [
    {
     "data": {
      "text/plain": [
       "array([[<matplotlib.axes._subplots.AxesSubplot object at 0x000002C5D7149C48>,\n",
       "        <matplotlib.axes._subplots.AxesSubplot object at 0x000002C5D815E4C8>],\n",
       "       [<matplotlib.axes._subplots.AxesSubplot object at 0x000002C5D8194E48>,\n",
       "        <matplotlib.axes._subplots.AxesSubplot object at 0x000002C5D81CEE08>]],\n",
       "      dtype=object)"
      ]
     },
     "execution_count": 17,
     "metadata": {},
     "output_type": "execute_result"
    },
    {
     "data": {
      "image/png": "[encoded data removed]",
      "text/plain": [
       "<Figure size 432x288 with 4 Axes>"
      ]
     },
     "metadata": {
      "needs_background": "light"
     },
     "output_type": "display_data"
    }
   ],
   "source": [
    "df.hist()"
   ]
  },
  {
   "cell_type": "code",
   "execution_count": 18,
   "metadata": {},
   "outputs": [
    {
     "data": {
      "text/plain": [
       "<matplotlib.axes._subplots.AxesSubplot at 0x2c5d878aec8>"
      ]
     },
     "execution_count": 18,
     "metadata": {},
     "output_type": "execute_result"
    },
    {
     "data": {
      "image/png": "[encoded data removed]",
      "text/plain": [
       "<Figure size 432x288 with 2 Axes>"
      ]
     },
     "metadata": {
      "needs_background": "light"
     },
     "output_type": "display_data"
    }
   ],
   "source": [
    "import seaborn as sns\n",
    "sns.heatmap(df.corr())"
   ]
  },
  {
   "cell_type": "markdown",
   "metadata": {},
   "source": [
    "### Split X, Y"
   ]
  },
  {
   "cell_type": "code",
   "execution_count": 19,
   "metadata": {},
   "outputs": [],
   "source": [
    "X = df.loc[:,[\"income\",\"age\",\"loan\"]]\n",
    "Y = df.loc[:,\"default\"]"
   ]
  },
  {
   "cell_type": "code",
   "execution_count": 20,
   "metadata": {},
   "outputs": [
    {
     "name": "stdout",
     "output_type": "stream",
     "text": [
      "            income        age          loan\n",
      "0     66155.925100  59.017015   8106.532131\n",
      "1     34415.153970  48.117153   6564.745018\n",
      "2     57317.170060  63.108049   8020.953296\n",
      "3     42709.534200  45.751972   6103.642260\n",
      "4     66952.688850  18.584336   8770.099235\n",
      "...            ...        ...           ...\n",
      "3423  60903.191726  21.933924  10367.081892\n",
      "3424  62235.644695  25.033016   8083.900063\n",
      "3425  25597.850590  26.350344   3810.110335\n",
      "3426  48164.194974  23.141976   6529.652892\n",
      "3427  33055.808635  26.289612   5351.851138\n",
      "\n",
      "[3425 rows x 3 columns] 0       0\n",
      "1       0\n",
      "2       0\n",
      "3       0\n",
      "4       1\n",
      "       ..\n",
      "3423    1\n",
      "3424    1\n",
      "3425    1\n",
      "3426    1\n",
      "3427    1\n",
      "Name: default, Length: 3425, dtype: int64\n"
     ]
    }
   ],
   "source": [
    "print(X,Y)"
   ]
  },
  {
   "cell_type": "markdown",
   "metadata": {},
   "source": [
    "### Normalize Data"
   ]
  },
  {
   "cell_type": "code",
   "execution_count": 21,
   "metadata": {},
   "outputs": [],
   "source": [
    "# normalization\n",
    "from scipy import stats\n",
    "import numpy as np \n",
    "pd.set_option('display.max_rows', 10)"
   ]
  },
  {
   "cell_type": "code",
   "execution_count": 22,
   "metadata": {},
   "outputs": [
    {
     "name": "stderr",
     "output_type": "stream",
     "text": [
      "C:\\Users\\woony\\anaconda3\\lib\\site-packages\\ipykernel_launcher.py:1: DeprecationWarning: `np.float` is a deprecated alias for the builtin `float`. To silence this warning, use `float` by itself. Doing this will not modify any behavior and is safe. If you specifically wanted the numpy scalar type, use `np.float64` here.\n",
      "Deprecated in NumPy 1.20; for more details and guidance: https://numpy.org/devdocs/release/1.20.0-notes.html#deprecations\n",
      "  \"\"\"Entry point for launching an IPython kernel.\n",
      "C:\\Users\\woony\\anaconda3\\lib\\site-packages\\ipykernel_launcher.py:2: DeprecationWarning: `np.float` is a deprecated alias for the builtin `float`. To silence this warning, use `float` by itself. Doing this will not modify any behavior and is safe. If you specifically wanted the numpy scalar type, use `np.float64` here.\n",
      "Deprecated in NumPy 1.20; for more details and guidance: https://numpy.org/devdocs/release/1.20.0-notes.html#deprecations\n",
      "  \n",
      "C:\\Users\\woony\\anaconda3\\lib\\site-packages\\ipykernel_launcher.py:3: DeprecationWarning: `np.float` is a deprecated alias for the builtin `float`. To silence this warning, use `float` by itself. Doing this will not modify any behavior and is safe. If you specifically wanted the numpy scalar type, use `np.float64` here.\n",
      "Deprecated in NumPy 1.20; for more details and guidance: https://numpy.org/devdocs/release/1.20.0-notes.html#deprecations\n",
      "  This is separate from the ipykernel package so we can avoid doing imports until\n"
     ]
    }
   ],
   "source": [
    "X[\"income\"] = stats.zscore(X[\"income\"].astype(np.float))\n",
    "X[\"age\"] = stats.zscore(X[\"age\"].astype(np.float))\n",
    "X[\"loan\"] = stats.zscore(X[\"loan\"].astype(np.float))"
   ]
  },
  {
   "cell_type": "markdown",
   "metadata": {},
   "source": [
    "### Train Test Split"
   ]
  },
  {
   "cell_type": "code",
   "execution_count": 23,
   "metadata": {},
   "outputs": [],
   "source": [
    "from sklearn.model_selection import train_test_split"
   ]
  },
  {
   "cell_type": "code",
   "execution_count": 24,
   "metadata": {},
   "outputs": [
    {
     "name": "stdout",
     "output_type": "stream",
     "text": [
      "        income       age      loan\n",
      "2850 -1.287902 -0.175666 -0.659669\n",
      "1594 -0.832456  1.272703 -0.447846\n",
      "484  -1.260140  1.612620 -0.446902\n",
      "2717  1.177170 -0.550738  1.996321\n",
      "1863  0.906956 -0.589286  1.256935\n",
      "...        ...       ...       ...\n",
      "2771 -0.421704 -0.916432  0.123511\n",
      "3074  0.089521 -0.767342  0.166428\n",
      "3020 -0.286875 -0.697266  0.353456\n",
      "1102 -1.499237  1.405195 -0.305194\n",
      "652  -1.147767 -1.062248 -1.245061\n",
      "\n",
      "[2397 rows x 3 columns]         income       age      loan\n",
      "1754  1.379409  0.145427 -1.058339\n",
      "721  -1.526091  0.429634 -1.314798\n",
      "2298  1.187220 -0.597633  0.973241\n",
      "3209 -1.654126 -0.951803 -0.918470\n",
      "1312  0.331002 -0.419644 -0.846949\n",
      "...        ...       ...       ...\n",
      "1752  1.177248 -0.324919  2.055187\n",
      "376   1.470150  0.057795 -1.020880\n",
      "2867  0.332819 -0.329567  0.638918\n",
      "2467  0.143907 -0.834027  0.743566\n",
      "2282 -0.544157 -0.609580  0.242090\n",
      "\n",
      "[1028 rows x 3 columns] 2850    1\n",
      "1594    0\n",
      "484     0\n",
      "2717    1\n",
      "1863    1\n",
      "       ..\n",
      "2771    1\n",
      "3074    1\n",
      "3020    1\n",
      "1102    0\n",
      "652     0\n",
      "Name: default, Length: 2397, dtype: int64 1754    0\n",
      "721     0\n",
      "2298    1\n",
      "3209    1\n",
      "1312    0\n",
      "       ..\n",
      "1752    1\n",
      "376     0\n",
      "2867    1\n",
      "2467    1\n",
      "2282    1\n",
      "Name: default, Length: 1028, dtype: int64\n"
     ]
    }
   ],
   "source": [
    "X_train, X_test, Y_train, Y_test = train_test_split(X, Y, test_size=0.3)\n",
    "print(X_train,X_test,Y_train,Y_test)"
   ]
  },
  {
   "cell_type": "markdown",
   "metadata": {},
   "source": [
    "## AI Model 1: Logistic Regression"
   ]
  },
  {
   "cell_type": "code",
   "execution_count": 25,
   "metadata": {},
   "outputs": [],
   "source": [
    "from sklearn import linear_model\n",
    "from sklearn.metrics import confusion_matrix"
   ]
  },
  {
   "cell_type": "code",
   "execution_count": 26,
   "metadata": {},
   "outputs": [],
   "source": [
    "logreg_model = linear_model.LogisticRegression()"
   ]
  },
  {
   "cell_type": "code",
   "execution_count": 27,
   "metadata": {},
   "outputs": [
    {
     "data": {
      "text/plain": [
       "LogisticRegression(C=1.0, class_weight=None, dual=False, fit_intercept=True,\n",
       "                   intercept_scaling=1, l1_ratio=None, max_iter=100,\n",
       "                   multi_class='auto', n_jobs=None, penalty='l2',\n",
       "                   random_state=None, solver='lbfgs', tol=0.0001, verbose=0,\n",
       "                   warm_start=False)"
      ]
     },
     "execution_count": 27,
     "metadata": {},
     "output_type": "execute_result"
    }
   ],
   "source": [
    "logreg_model.fit(X_train,Y_train)"
   ]
  },
  {
   "cell_type": "code",
   "execution_count": 28,
   "metadata": {},
   "outputs": [],
   "source": [
    "pred = logreg_model.predict(X_train)"
   ]
  },
  {
   "cell_type": "code",
   "execution_count": 29,
   "metadata": {},
   "outputs": [],
   "source": [
    "cm = confusion_matrix(Y_train,pred)"
   ]
  },
  {
   "cell_type": "code",
   "execution_count": 30,
   "metadata": {},
   "outputs": [
    {
     "name": "stdout",
     "output_type": "stream",
     "text": [
      "[[1116   84]\n",
      " [  37 1160]]\n"
     ]
    }
   ],
   "source": [
    "print(cm)"
   ]
  },
  {
   "cell_type": "code",
   "execution_count": 31,
   "metadata": {},
   "outputs": [
    {
     "name": "stdout",
     "output_type": "stream",
     "text": [
      "Train set accuracy:  0.9495202336253651\n"
     ]
    }
   ],
   "source": [
    "# Train set accuracy\n",
    "accuracy = (cm[0,0]+cm[1,1])/sum(sum(cm))\n",
    "print(\"Train set accuracy: \", accuracy)"
   ]
  },
  {
   "cell_type": "code",
   "execution_count": 32,
   "metadata": {},
   "outputs": [],
   "source": [
    "pred = logreg_model.predict(X_test)"
   ]
  },
  {
   "cell_type": "code",
   "execution_count": 33,
   "metadata": {},
   "outputs": [],
   "source": [
    "cm = confusion_matrix(Y_test, pred)"
   ]
  },
  {
   "cell_type": "code",
   "execution_count": 34,
   "metadata": {},
   "outputs": [
    {
     "name": "stdout",
     "output_type": "stream",
     "text": [
      "[[476  35]\n",
      " [ 13 504]]\n"
     ]
    }
   ],
   "source": [
    "print(cm)"
   ]
  },
  {
   "cell_type": "code",
   "execution_count": 35,
   "metadata": {},
   "outputs": [
    {
     "name": "stdout",
     "output_type": "stream",
     "text": [
      "Test set accuracy:  0.953307392996109\n"
     ]
    }
   ],
   "source": [
    "# Test set accuracy\n",
    "accuracy = (cm[0,0] + cm[1,1])/sum(sum(cm))\n",
    "print(\"Test set accuracy: \", accuracy)\n",
    "\n",
    "# The accuracy of the train and test set are close to each other"
   ]
  },
  {
   "cell_type": "markdown",
   "metadata": {},
   "source": [
    "## AI Model 2: Decision Tree"
   ]
  },
  {
   "cell_type": "code",
   "execution_count": 36,
   "metadata": {},
   "outputs": [],
   "source": [
    "from sklearn import tree"
   ]
  },
  {
   "cell_type": "code",
   "execution_count": 37,
   "metadata": {},
   "outputs": [],
   "source": [
    "tree_model = tree.DecisionTreeClassifier()"
   ]
  },
  {
   "cell_type": "code",
   "execution_count": 38,
   "metadata": {},
   "outputs": [
    {
     "data": {
      "text/plain": [
       "DecisionTreeClassifier(ccp_alpha=0.0, class_weight=None, criterion='gini',\n",
       "                       max_depth=None, max_features=None, max_leaf_nodes=None,\n",
       "                       min_impurity_decrease=0.0, min_impurity_split=None,\n",
       "                       min_samples_leaf=1, min_samples_split=2,\n",
       "                       min_weight_fraction_leaf=0.0, presort='deprecated',\n",
       "                       random_state=None, splitter='best')"
      ]
     },
     "execution_count": 38,
     "metadata": {},
     "output_type": "execute_result"
    }
   ],
   "source": [
    "tree_model.fit(X_train, Y_train)"
   ]
  },
  {
   "cell_type": "code",
   "execution_count": 39,
   "metadata": {},
   "outputs": [],
   "source": [
    "pred = tree_model.predict(X_test)"
   ]
  },
  {
   "cell_type": "code",
   "execution_count": 40,
   "metadata": {},
   "outputs": [],
   "source": [
    "cm = confusion_matrix(Y_test, pred)"
   ]
  },
  {
   "cell_type": "code",
   "execution_count": 41,
   "metadata": {},
   "outputs": [
    {
     "name": "stdout",
     "output_type": "stream",
     "text": [
      "0.9912451361867705\n"
     ]
    }
   ],
   "source": [
    "print((cm[0, 0] + cm[1, 1])/sum(sum(cm)))"
   ]
  },
  {
   "cell_type": "markdown",
   "metadata": {},
   "source": [
    "### Optimization: Split to validation set"
   ]
  },
  {
   "cell_type": "code",
   "execution_count": 42,
   "metadata": {},
   "outputs": [],
   "source": [
    "X_train1, X_test1, Y_train1, Y_test1 = train_test_split(X_train, Y_train)"
   ]
  },
  {
   "cell_type": "code",
   "execution_count": 43,
   "metadata": {},
   "outputs": [
    {
     "name": "stdout",
     "output_type": "stream",
     "text": [
      "1\n",
      "0.8616666666666667\n",
      "+++++++++++++++++++++++++++++++++\n",
      "2\n",
      "0.93\n",
      "+++++++++++++++++++++++++++++++++\n",
      "3\n",
      "0.9366666666666666\n",
      "+++++++++++++++++++++++++++++++++\n",
      "4\n",
      "0.9666666666666667\n",
      "+++++++++++++++++++++++++++++++++\n",
      "5\n",
      "0.975\n",
      "+++++++++++++++++++++++++++++++++\n",
      "6\n",
      "0.9933333333333333\n",
      "+++++++++++++++++++++++++++++++++\n",
      "7\n",
      "0.995\n",
      "+++++++++++++++++++++++++++++++++\n",
      "8\n",
      "0.995\n",
      "+++++++++++++++++++++++++++++++++\n",
      "9\n",
      "0.9933333333333333\n",
      "+++++++++++++++++++++++++++++++++\n",
      "10\n",
      "0.9933333333333333\n",
      "+++++++++++++++++++++++++++++++++\n"
     ]
    }
   ],
   "source": [
    "for i in range(10):\n",
    "    model = tree.DecisionTreeClassifier(max_depth = i+1)\n",
    "    model.fit(X_train1, Y_train1)\n",
    "    pred = model.predict(X_test1)\n",
    "    cm = confusion_matrix(Y_test1, pred)\n",
    "    print(i+1)\n",
    "    print((cm[0, 0] + cm[1, 1])/sum(sum(cm)))\n",
    "    print(\"+++++++++++++++++++++++++++++++++\")"
   ]
  },
  {
   "cell_type": "code",
   "execution_count": 48,
   "metadata": {},
   "outputs": [],
   "source": [
    "# Take 7 since its the highest\n",
    "tree_model = tree.DecisionTreeClassifier(max_depth = 7)"
   ]
  },
  {
   "cell_type": "code",
   "execution_count": 49,
   "metadata": {},
   "outputs": [
    {
     "data": {
      "text/plain": [
       "DecisionTreeClassifier(ccp_alpha=0.0, class_weight=None, criterion='gini',\n",
       "                       max_depth=7, max_features=None, max_leaf_nodes=None,\n",
       "                       min_impurity_decrease=0.0, min_impurity_split=None,\n",
       "                       min_samples_leaf=1, min_samples_split=2,\n",
       "                       min_weight_fraction_leaf=0.0, presort='deprecated',\n",
       "                       random_state=None, splitter='best')"
      ]
     },
     "execution_count": 49,
     "metadata": {},
     "output_type": "execute_result"
    }
   ],
   "source": [
    "tree_model.fit(X_train, Y_train)"
   ]
  },
  {
   "cell_type": "code",
   "execution_count": 50,
   "metadata": {},
   "outputs": [],
   "source": [
    "pred = tree_model.predict(X_test)"
   ]
  },
  {
   "cell_type": "code",
   "execution_count": 51,
   "metadata": {},
   "outputs": [],
   "source": [
    "cm = confusion_matrix(Y_test, pred)"
   ]
  },
  {
   "cell_type": "code",
   "execution_count": 52,
   "metadata": {},
   "outputs": [
    {
     "name": "stdout",
     "output_type": "stream",
     "text": [
      "0.9902723735408561\n"
     ]
    }
   ],
   "source": [
    "print((cm[0, 0] + cm[1, 1])/sum(sum(cm)))"
   ]
  },
  {
   "cell_type": "markdown",
   "metadata": {},
   "source": [
    "### Optimization using Grid"
   ]
  },
  {
   "cell_type": "code",
   "execution_count": 53,
   "metadata": {},
   "outputs": [],
   "source": [
    "from sklearn.model_selection import GridSearchCV"
   ]
  },
  {
   "cell_type": "code",
   "execution_count": 54,
   "metadata": {},
   "outputs": [],
   "source": [
    "model = tree.DecisionTreeClassifier()"
   ]
  },
  {
   "cell_type": "code",
   "execution_count": 55,
   "metadata": {},
   "outputs": [],
   "source": [
    "g = GridSearchCV(estimator = model, param_grid = dict(max_depth = [i for i in range(2, 20)]))"
   ]
  },
  {
   "cell_type": "code",
   "execution_count": 56,
   "metadata": {},
   "outputs": [
    {
     "data": {
      "text/plain": [
       "{'max_depth': [2, 3, 4, 5, 6, 7, 8, 9, 10, 11, 12, 13, 14, 15, 16, 17, 18, 19]}"
      ]
     },
     "execution_count": 56,
     "metadata": {},
     "output_type": "execute_result"
    }
   ],
   "source": [
    "dict(max_depth = [i for i in range(2, 20)])"
   ]
  },
  {
   "cell_type": "code",
   "execution_count": 57,
   "metadata": {},
   "outputs": [
    {
     "data": {
      "text/plain": [
       "GridSearchCV(cv=None, error_score=nan,\n",
       "             estimator=DecisionTreeClassifier(ccp_alpha=0.0, class_weight=None,\n",
       "                                              criterion='gini', max_depth=None,\n",
       "                                              max_features=None,\n",
       "                                              max_leaf_nodes=None,\n",
       "                                              min_impurity_decrease=0.0,\n",
       "                                              min_impurity_split=None,\n",
       "                                              min_samples_leaf=1,\n",
       "                                              min_samples_split=2,\n",
       "                                              min_weight_fraction_leaf=0.0,\n",
       "                                              presort='deprecated',\n",
       "                                              random_state=None,\n",
       "                                              splitter='best'),\n",
       "             iid='deprecated', n_jobs=None,\n",
       "             param_grid={'max_depth': [2, 3, 4, 5, 6, 7, 8, 9, 10, 11, 12, 13,\n",
       "                                       14, 15, 16, 17, 18, 19]},\n",
       "             pre_dispatch='2*n_jobs', refit=True, return_train_score=False,\n",
       "             scoring=None, verbose=0)"
      ]
     },
     "execution_count": 57,
     "metadata": {},
     "output_type": "execute_result"
    }
   ],
   "source": [
    "g.fit(X_train, Y_train)"
   ]
  },
  {
   "cell_type": "code",
   "execution_count": 58,
   "metadata": {},
   "outputs": [
    {
     "data": {
      "text/plain": [
       "{'max_depth': 17}"
      ]
     },
     "execution_count": 58,
     "metadata": {},
     "output_type": "execute_result"
    }
   ],
   "source": [
    "g.best_params_"
   ]
  },
  {
   "cell_type": "markdown",
   "metadata": {},
   "source": [
    "#### Grid recommended max_depth = 17"
   ]
  },
  {
   "cell_type": "code",
   "execution_count": 67,
   "metadata": {},
   "outputs": [],
   "source": [
    "g = GridSearchCV(estimator = model, param_grid = dict(min_samples_split = [i for i in range(5, 300)]))"
   ]
  },
  {
   "cell_type": "code",
   "execution_count": 68,
   "metadata": {
    "scrolled": true
   },
   "outputs": [
    {
     "data": {
      "text/plain": [
       "GridSearchCV(cv=None, error_score=nan,\n",
       "             estimator=DecisionTreeClassifier(ccp_alpha=0.0, class_weight=None,\n",
       "                                              criterion='gini', max_depth=None,\n",
       "                                              max_features=None,\n",
       "                                              max_leaf_nodes=None,\n",
       "                                              min_impurity_decrease=0.0,\n",
       "                                              min_impurity_split=None,\n",
       "                                              min_samples_leaf=1,\n",
       "                                              min_samples_split=2,\n",
       "                                              min_weight_fraction_leaf=0.0,\n",
       "                                              presort='deprecated',\n",
       "                                              random_state=None,\n",
       "                                              splitter='best'),\n",
       "             iid='deprecated', n_jobs=None,\n",
       "             param_grid={'min_samples_split': [5, 6, 7, 8, 9, 10, 11, 12, 13,\n",
       "                                               14, 15, 16, 17, 18, 19, 20, 21,\n",
       "                                               22, 23, 24, 25, 26, 27, 28, 29,\n",
       "                                               30, 31, 32, 33, 34, ...]},\n",
       "             pre_dispatch='2*n_jobs', refit=True, return_train_score=False,\n",
       "             scoring=None, verbose=0)"
      ]
     },
     "execution_count": 68,
     "metadata": {},
     "output_type": "execute_result"
    }
   ],
   "source": [
    "g.fit(X_train, Y_train)"
   ]
  },
  {
   "cell_type": "code",
   "execution_count": 69,
   "metadata": {},
   "outputs": [
    {
     "data": {
      "text/plain": [
       "{'min_samples_split': 5}"
      ]
     },
     "execution_count": 69,
     "metadata": {},
     "output_type": "execute_result"
    }
   ],
   "source": [
    "g.best_params_"
   ]
  },
  {
   "cell_type": "markdown",
   "metadata": {},
   "source": [
    "#### Grid recommended min_samples_split = 5"
   ]
  },
  {
   "cell_type": "code",
   "execution_count": 70,
   "metadata": {},
   "outputs": [],
   "source": [
    "# Take max_depth = 17 and min_samples_split = 5\n",
    "tree_model = tree.DecisionTreeClassifier(max_depth = 17, min_samples_split = 5)"
   ]
  },
  {
   "cell_type": "code",
   "execution_count": 71,
   "metadata": {},
   "outputs": [
    {
     "data": {
      "text/plain": [
       "DecisionTreeClassifier(ccp_alpha=0.0, class_weight=None, criterion='gini',\n",
       "                       max_depth=17, max_features=None, max_leaf_nodes=None,\n",
       "                       min_impurity_decrease=0.0, min_impurity_split=None,\n",
       "                       min_samples_leaf=1, min_samples_split=5,\n",
       "                       min_weight_fraction_leaf=0.0, presort='deprecated',\n",
       "                       random_state=None, splitter='best')"
      ]
     },
     "execution_count": 71,
     "metadata": {},
     "output_type": "execute_result"
    }
   ],
   "source": [
    "tree_model.fit(X_train, Y_train)"
   ]
  },
  {
   "cell_type": "code",
   "execution_count": 72,
   "metadata": {},
   "outputs": [],
   "source": [
    "pred = tree_model.predict(X_test)"
   ]
  },
  {
   "cell_type": "code",
   "execution_count": 73,
   "metadata": {},
   "outputs": [],
   "source": [
    "cm = confusion_matrix(Y_test, pred)"
   ]
  },
  {
   "cell_type": "code",
   "execution_count": 74,
   "metadata": {},
   "outputs": [
    {
     "name": "stdout",
     "output_type": "stream",
     "text": [
      "0.9902723735408561\n"
     ]
    }
   ],
   "source": [
    "print((cm[0, 0] + cm[1, 1])/sum(sum(cm)))"
   ]
  },
  {
   "cell_type": "markdown",
   "metadata": {},
   "source": [
    "### Optimizing using Grid and using the validation set is about the same"
   ]
  },
  {
   "cell_type": "markdown",
   "metadata": {},
   "source": [
    "## AI Model 3: Random Forest"
   ]
  },
  {
   "cell_type": "code",
   "execution_count": 75,
   "metadata": {},
   "outputs": [],
   "source": [
    "from sklearn import ensemble"
   ]
  },
  {
   "cell_type": "code",
   "execution_count": 76,
   "metadata": {},
   "outputs": [],
   "source": [
    "# Initial usage of the model without optimization\n",
    "rf_model = ensemble.RandomForestClassifier(max_depth = 2)"
   ]
  },
  {
   "cell_type": "code",
   "execution_count": 77,
   "metadata": {
    "scrolled": true
   },
   "outputs": [
    {
     "data": {
      "text/plain": [
       "RandomForestClassifier(bootstrap=True, ccp_alpha=0.0, class_weight=None,\n",
       "                       criterion='gini', max_depth=2, max_features='auto',\n",
       "                       max_leaf_nodes=None, max_samples=None,\n",
       "                       min_impurity_decrease=0.0, min_impurity_split=None,\n",
       "                       min_samples_leaf=1, min_samples_split=2,\n",
       "                       min_weight_fraction_leaf=0.0, n_estimators=100,\n",
       "                       n_jobs=None, oob_score=False, random_state=None,\n",
       "                       verbose=0, warm_start=False)"
      ]
     },
     "execution_count": 77,
     "metadata": {},
     "output_type": "execute_result"
    }
   ],
   "source": [
    "rf_model.fit(X_train, Y_train)"
   ]
  },
  {
   "cell_type": "code",
   "execution_count": 78,
   "metadata": {},
   "outputs": [],
   "source": [
    "pred = rf_model.predict(X_train)"
   ]
  },
  {
   "cell_type": "code",
   "execution_count": 79,
   "metadata": {},
   "outputs": [],
   "source": [
    "cm = confusion_matrix(Y_train,pred)"
   ]
  },
  {
   "cell_type": "code",
   "execution_count": 80,
   "metadata": {},
   "outputs": [
    {
     "name": "stdout",
     "output_type": "stream",
     "text": [
      "[[1066  134]\n",
      " [   6 1191]]\n"
     ]
    }
   ],
   "source": [
    "print(cm)"
   ]
  },
  {
   "cell_type": "code",
   "execution_count": 81,
   "metadata": {},
   "outputs": [
    {
     "name": "stdout",
     "output_type": "stream",
     "text": [
      "Train set accuracy:  0.9415936587400918\n"
     ]
    }
   ],
   "source": [
    "# Train set accuracy\n",
    "accuracy = (cm[0,0]+cm[1,1])/sum(sum(cm))\n",
    "print(\"Train set accuracy: \", accuracy)"
   ]
  },
  {
   "cell_type": "code",
   "execution_count": 82,
   "metadata": {},
   "outputs": [],
   "source": [
    "pred = rf_model.predict(X_test)"
   ]
  },
  {
   "cell_type": "code",
   "execution_count": 83,
   "metadata": {},
   "outputs": [],
   "source": [
    "cm = confusion_matrix(Y_test, pred)"
   ]
  },
  {
   "cell_type": "code",
   "execution_count": 84,
   "metadata": {},
   "outputs": [
    {
     "name": "stdout",
     "output_type": "stream",
     "text": [
      "[[462  49]\n",
      " [  5 512]]\n"
     ]
    }
   ],
   "source": [
    "print(cm)"
   ]
  },
  {
   "cell_type": "code",
   "execution_count": 85,
   "metadata": {},
   "outputs": [
    {
     "name": "stdout",
     "output_type": "stream",
     "text": [
      "Test set accuracy:  0.9474708171206225\n"
     ]
    }
   ],
   "source": [
    "# Test set accuracy\n",
    "accuracy = (cm[0,0] + cm[1,1])/sum(sum(cm))\n",
    "print(\"Test set accuracy: \", accuracy)"
   ]
  },
  {
   "cell_type": "code",
   "execution_count": 86,
   "metadata": {},
   "outputs": [
    {
     "name": "stdout",
     "output_type": "stream",
     "text": [
      "0\n",
      "0.9458333333333333\n",
      "+++++++++++++++++++++++++++++++++\n",
      "1\n",
      "0.9541666666666667\n",
      "+++++++++++++++++++++++++++++++++\n",
      "2\n",
      "0.95\n",
      "+++++++++++++++++++++++++++++++++\n",
      "3\n",
      "0.9597222222222223\n",
      "+++++++++++++++++++++++++++++++++\n",
      "4\n",
      "0.9694444444444444\n",
      "+++++++++++++++++++++++++++++++++\n",
      "5\n",
      "0.9805555555555555\n",
      "+++++++++++++++++++++++++++++++++\n",
      "6\n",
      "0.9847222222222223\n",
      "+++++++++++++++++++++++++++++++++\n",
      "7\n",
      "0.9875\n",
      "+++++++++++++++++++++++++++++++++\n",
      "8\n",
      "0.9902777777777778\n",
      "+++++++++++++++++++++++++++++++++\n",
      "9\n",
      "0.9902777777777778\n",
      "+++++++++++++++++++++++++++++++++\n",
      "10\n",
      "0.9902777777777778\n",
      "+++++++++++++++++++++++++++++++++\n",
      "11\n",
      "0.9902777777777778\n",
      "+++++++++++++++++++++++++++++++++\n",
      "12\n",
      "0.9916666666666667\n",
      "+++++++++++++++++++++++++++++++++\n",
      "13\n",
      "0.9944444444444445\n",
      "+++++++++++++++++++++++++++++++++\n",
      "14\n",
      "0.9944444444444445\n",
      "+++++++++++++++++++++++++++++++++\n",
      "15\n",
      "0.9916666666666667\n",
      "+++++++++++++++++++++++++++++++++\n",
      "16\n",
      "0.9944444444444445\n",
      "+++++++++++++++++++++++++++++++++\n",
      "17\n",
      "0.9902777777777778\n",
      "+++++++++++++++++++++++++++++++++\n",
      "18\n",
      "0.9902777777777778\n",
      "+++++++++++++++++++++++++++++++++\n",
      "19\n",
      "0.9944444444444445\n",
      "+++++++++++++++++++++++++++++++++\n"
     ]
    }
   ],
   "source": [
    "# To optimize the max depth of the tree\n",
    "X_train1, X_validate, Y_train1, Y_validate = train_test_split(X_train, Y_train, test_size=0.3)\n",
    "\n",
    "for i in range(20):\n",
    "    print(i)\n",
    "    model = ensemble.RandomForestClassifier(max_depth = i+1)\n",
    "    model.fit(X_train1, Y_train1)\n",
    "    pred = model.predict(X_validate)\n",
    "    cm = confusion_matrix(Y_validate, pred)\n",
    "    accuracy = (cm[0,0] + cm[1,1])/sum(sum(cm))\n",
    "    print(accuracy)\n",
    "    print(\"+++++++++++++++++++++++++++++++++\")"
   ]
  },
  {
   "cell_type": "markdown",
   "metadata": {},
   "source": [
    "### We can take max_depth = 13 since it is the highest and will probably give the best results"
   ]
  },
  {
   "cell_type": "code",
   "execution_count": 87,
   "metadata": {},
   "outputs": [],
   "source": [
    "# Running Random Forest with max_depth=13 instead\n",
    "rf_model = ensemble.RandomForestClassifier(max_depth=13)"
   ]
  },
  {
   "cell_type": "code",
   "execution_count": 88,
   "metadata": {
    "scrolled": true
   },
   "outputs": [
    {
     "data": {
      "text/plain": [
       "RandomForestClassifier(bootstrap=True, ccp_alpha=0.0, class_weight=None,\n",
       "                       criterion='gini', max_depth=13, max_features='auto',\n",
       "                       max_leaf_nodes=None, max_samples=None,\n",
       "                       min_impurity_decrease=0.0, min_impurity_split=None,\n",
       "                       min_samples_leaf=1, min_samples_split=2,\n",
       "                       min_weight_fraction_leaf=0.0, n_estimators=100,\n",
       "                       n_jobs=None, oob_score=False, random_state=None,\n",
       "                       verbose=0, warm_start=False)"
      ]
     },
     "execution_count": 88,
     "metadata": {},
     "output_type": "execute_result"
    }
   ],
   "source": [
    "rf_model.fit(X_train,Y_train)"
   ]
  },
  {
   "cell_type": "code",
   "execution_count": 89,
   "metadata": {},
   "outputs": [],
   "source": [
    "pred = rf_model.predict(X_train)"
   ]
  },
  {
   "cell_type": "code",
   "execution_count": 90,
   "metadata": {},
   "outputs": [
    {
     "name": "stdout",
     "output_type": "stream",
     "text": [
      "[[1200    0]\n",
      " [   0 1197]]\n"
     ]
    }
   ],
   "source": [
    "cm = confusion_matrix(Y_train, pred)\n",
    "print(cm)"
   ]
  },
  {
   "cell_type": "code",
   "execution_count": 91,
   "metadata": {},
   "outputs": [
    {
     "name": "stdout",
     "output_type": "stream",
     "text": [
      "Train set accuracy:  1.0\n"
     ]
    }
   ],
   "source": [
    "# Train set accuracy\n",
    "accuracy = (cm[0,0] + cm[1,1])/sum(sum(cm))\n",
    "print(\"Train set accuracy: \", accuracy)"
   ]
  },
  {
   "cell_type": "code",
   "execution_count": 92,
   "metadata": {},
   "outputs": [],
   "source": [
    "pred = rf_model.predict(X_test)"
   ]
  },
  {
   "cell_type": "code",
   "execution_count": 93,
   "metadata": {},
   "outputs": [
    {
     "name": "stdout",
     "output_type": "stream",
     "text": [
      "[[505   6]\n",
      " [  1 516]]\n"
     ]
    }
   ],
   "source": [
    "cm = confusion_matrix(Y_test, pred)\n",
    "print(cm)"
   ]
  },
  {
   "cell_type": "code",
   "execution_count": 94,
   "metadata": {},
   "outputs": [
    {
     "name": "stdout",
     "output_type": "stream",
     "text": [
      "Test set accuracy:  0.9931906614785992\n"
     ]
    }
   ],
   "source": [
    "# Test set accuracy\n",
    "accuracy = (cm[0,0] + cm[1,1])/sum(sum(cm))\n",
    "print(\"Test set accuracy: \", accuracy)"
   ]
  },
  {
   "cell_type": "markdown",
   "metadata": {},
   "source": [
    "## AI Model 4: XGBoost "
   ]
  },
  {
   "cell_type": "code",
   "execution_count": 95,
   "metadata": {},
   "outputs": [],
   "source": [
    "xgb_model = ensemble.GradientBoostingClassifier()"
   ]
  },
  {
   "cell_type": "code",
   "execution_count": 96,
   "metadata": {},
   "outputs": [
    {
     "data": {
      "text/plain": [
       "GradientBoostingClassifier(ccp_alpha=0.0, criterion='friedman_mse', init=None,\n",
       "                           learning_rate=0.1, loss='deviance', max_depth=3,\n",
       "                           max_features=None, max_leaf_nodes=None,\n",
       "                           min_impurity_decrease=0.0, min_impurity_split=None,\n",
       "                           min_samples_leaf=1, min_samples_split=2,\n",
       "                           min_weight_fraction_leaf=0.0, n_estimators=100,\n",
       "                           n_iter_no_change=None, presort='deprecated',\n",
       "                           random_state=None, subsample=1.0, tol=0.0001,\n",
       "                           validation_fraction=0.1, verbose=0,\n",
       "                           warm_start=False)"
      ]
     },
     "execution_count": 96,
     "metadata": {},
     "output_type": "execute_result"
    }
   ],
   "source": [
    "xgb_model.fit(X_train, Y_train)"
   ]
  },
  {
   "cell_type": "code",
   "execution_count": 97,
   "metadata": {},
   "outputs": [],
   "source": [
    "pred = xgb_model.predict(X_test)"
   ]
  },
  {
   "cell_type": "code",
   "execution_count": 98,
   "metadata": {},
   "outputs": [],
   "source": [
    "cm = confusion_matrix(Y_test, pred)"
   ]
  },
  {
   "cell_type": "code",
   "execution_count": 99,
   "metadata": {},
   "outputs": [
    {
     "name": "stdout",
     "output_type": "stream",
     "text": [
      "0.9912451361867705\n"
     ]
    }
   ],
   "source": [
    "print((cm[0,0] + cm[1,1])/(sum(sum(cm))))"
   ]
  },
  {
   "cell_type": "code",
   "execution_count": null,
   "metadata": {},
   "outputs": [],
   "source": []
  },
  {
   "cell_type": "markdown",
   "metadata": {},
   "source": [
    "## AI Model 5: Neural Network"
   ]
  },
  {
   "cell_type": "code",
   "execution_count": 100,
   "metadata": {},
   "outputs": [],
   "source": [
    "import keras\n",
    "from keras.models import Sequential"
   ]
  },
  {
   "cell_type": "code",
   "execution_count": 101,
   "metadata": {},
   "outputs": [],
   "source": [
    "from keras.layers import Dense, Dropout"
   ]
  },
  {
   "cell_type": "code",
   "execution_count": 102,
   "metadata": {},
   "outputs": [],
   "source": [
    "nnet_model = Sequential()"
   ]
  },
  {
   "cell_type": "code",
   "execution_count": 103,
   "metadata": {},
   "outputs": [],
   "source": [
    "input_dimension = len(X.columns)"
   ]
  },
  {
   "cell_type": "code",
   "execution_count": 104,
   "metadata": {},
   "outputs": [
    {
     "name": "stdout",
     "output_type": "stream",
     "text": [
      "3\n"
     ]
    }
   ],
   "source": [
    "print(input_dimension)"
   ]
  },
  {
   "cell_type": "code",
   "execution_count": 105,
   "metadata": {},
   "outputs": [],
   "source": [
    "nnet_model.add(Dense(6, input_dim=input_dimension, activation=\"relu\"))"
   ]
  },
  {
   "cell_type": "code",
   "execution_count": 106,
   "metadata": {},
   "outputs": [],
   "source": [
    "nnet_model.add(Dropout(0.2))"
   ]
  },
  {
   "cell_type": "code",
   "execution_count": 107,
   "metadata": {},
   "outputs": [],
   "source": [
    "nnet_model.add(Dense(6, activation=\"relu\"))"
   ]
  },
  {
   "cell_type": "code",
   "execution_count": 108,
   "metadata": {},
   "outputs": [],
   "source": [
    "nnet_model.add(Dropout(0.2))"
   ]
  },
  {
   "cell_type": "code",
   "execution_count": 109,
   "metadata": {},
   "outputs": [],
   "source": [
    "nnet_model.add(Dense(1, activation=\"sigmoid\"))"
   ]
  },
  {
   "cell_type": "code",
   "execution_count": 110,
   "metadata": {
    "scrolled": true
   },
   "outputs": [
    {
     "name": "stdout",
     "output_type": "stream",
     "text": [
      "Model: \"sequential\"\n",
      "_________________________________________________________________\n",
      " Layer (type)                Output Shape              Param #   \n",
      "=================================================================\n",
      " dense (Dense)               (None, 6)                 24        \n",
      "                                                                 \n",
      " dropout (Dropout)           (None, 6)                 0         \n",
      "                                                                 \n",
      " dense_1 (Dense)             (None, 6)                 42        \n",
      "                                                                 \n",
      " dropout_1 (Dropout)         (None, 6)                 0         \n",
      "                                                                 \n",
      " dense_2 (Dense)             (None, 1)                 7         \n",
      "                                                                 \n",
      "=================================================================\n",
      "Total params: 73\n",
      "Trainable params: 73\n",
      "Non-trainable params: 0\n",
      "_________________________________________________________________\n"
     ]
    }
   ],
   "source": [
    "nnet_model.summary()"
   ]
  },
  {
   "cell_type": "code",
   "execution_count": 111,
   "metadata": {},
   "outputs": [],
   "source": [
    "nnet_model.compile(loss=\"binary_crossentropy\", metrics=[\"accuracy\"],optimizer='Adam')"
   ]
  },
  {
   "cell_type": "code",
   "execution_count": 112,
   "metadata": {},
   "outputs": [
    {
     "name": "stdout",
     "output_type": "stream",
     "text": [
      "Epoch 1/20\n",
      "240/240 [==============================] - 2s 2ms/step - loss: 0.5360 - accuracy: 0.7409\n",
      "Epoch 2/20\n",
      "240/240 [==============================] - 1s 3ms/step - loss: 0.4160 - accuracy: 0.8227\n",
      "Epoch 3/20\n",
      "240/240 [==============================] - 1s 3ms/step - loss: 0.3298 - accuracy: 0.8715\n",
      "Epoch 4/20\n",
      "240/240 [==============================] - 1s 3ms/step - loss: 0.2809 - accuracy: 0.8844\n",
      "Epoch 5/20\n",
      "240/240 [==============================] - 1s 3ms/step - loss: 0.2423 - accuracy: 0.9003\n",
      "Epoch 6/20\n",
      "240/240 [==============================] - 1s 3ms/step - loss: 0.2275 - accuracy: 0.9011\n",
      "Epoch 7/20\n",
      "240/240 [==============================] - 1s 3ms/step - loss: 0.2146 - accuracy: 0.9049\n",
      "Epoch 8/20\n",
      "240/240 [==============================] - 1s 3ms/step - loss: 0.1993 - accuracy: 0.9178\n",
      "Epoch 9/20\n",
      "240/240 [==============================] - 1s 3ms/step - loss: 0.1996 - accuracy: 0.9141\n",
      "Epoch 10/20\n",
      "240/240 [==============================] - 1s 3ms/step - loss: 0.1892 - accuracy: 0.9232\n",
      "Epoch 11/20\n",
      "240/240 [==============================] - 1s 3ms/step - loss: 0.1890 - accuracy: 0.9199\n",
      "Epoch 12/20\n",
      "240/240 [==============================] - 1s 3ms/step - loss: 0.1834 - accuracy: 0.9212\n",
      "Epoch 13/20\n",
      "240/240 [==============================] - 1s 3ms/step - loss: 0.1704 - accuracy: 0.9262\n",
      "Epoch 14/20\n",
      "240/240 [==============================] - 1s 3ms/step - loss: 0.1719 - accuracy: 0.9241\n",
      "Epoch 15/20\n",
      "240/240 [==============================] - 1s 3ms/step - loss: 0.1711 - accuracy: 0.9307\n",
      "Epoch 16/20\n",
      "240/240 [==============================] - 1s 3ms/step - loss: 0.1588 - accuracy: 0.9320\n",
      "Epoch 17/20\n",
      "240/240 [==============================] - 1s 3ms/step - loss: 0.1642 - accuracy: 0.9316\n",
      "Epoch 18/20\n",
      "240/240 [==============================] - 1s 3ms/step - loss: 0.1580 - accuracy: 0.9337\n",
      "Epoch 19/20\n",
      "240/240 [==============================] - 1s 2ms/step - loss: 0.1602 - accuracy: 0.9257\n",
      "Epoch 20/20\n",
      "240/240 [==============================] - 1s 3ms/step - loss: 0.1492 - accuracy: 0.9399\n"
     ]
    },
    {
     "data": {
      "text/plain": [
       "<keras.callbacks.History at 0x2c5e1595b08>"
      ]
     },
     "execution_count": 112,
     "metadata": {},
     "output_type": "execute_result"
    }
   ],
   "source": [
    "nnet_model.fit(X_train, Y_train, batch_size=10, epochs = 20) \n",
    "# epochs = 20 as accuracy did not increase any further afterwards"
   ]
  },
  {
   "cell_type": "code",
   "execution_count": 128,
   "metadata": {},
   "outputs": [
    {
     "name": "stdout",
     "output_type": "stream",
     "text": [
      "33/33 [==============================] - 1s 3ms/step - loss: 0.0327 - accuracy: 0.9874\n",
      "Accuracy: 0.9873540997505188\n"
     ]
    }
   ],
   "source": [
    "_, accuracy = nnet_model.evaluate(X_test,Y_test)\n",
    "print(\"Accuracy:\", accuracy)"
   ]
  },
  {
   "cell_type": "code",
   "execution_count": null,
   "metadata": {},
   "outputs": [],
   "source": []
  },
  {
   "cell_type": "markdown",
   "metadata": {},
   "source": [
    "### Save model into a file"
   ]
  },
  {
   "cell_type": "code",
   "execution_count": 126,
   "metadata": {},
   "outputs": [
    {
     "name": "stdout",
     "output_type": "stream",
     "text": [
      "INFO:tensorflow:Assets written to: default_model\\assets\n"
     ]
    }
   ],
   "source": [
    "nnet_model.save(\"default_model\")"
   ]
  },
  {
   "cell_type": "markdown",
   "metadata": {},
   "source": [
    "### Load model from file"
   ]
  },
  {
   "cell_type": "code",
   "execution_count": 127,
   "metadata": {},
   "outputs": [],
   "source": [
    "from keras.models import load_model"
   ]
  },
  {
   "cell_type": "code",
   "execution_count": 128,
   "metadata": {},
   "outputs": [],
   "source": [
    "model = load_model(\"default_model\")"
   ]
  },
  {
   "cell_type": "code",
   "execution_count": 130,
   "metadata": {},
   "outputs": [
    {
     "name": "stdout",
     "output_type": "stream",
     "text": [
      "[[1.]]\n"
     ]
    }
   ],
   "source": [
    "pred = model.predict([[6952.688850,18.584336,8770.099235]])\n",
    "print(pred)"
   ]
  },
  {
   "cell_type": "markdown",
   "metadata": {},
   "source": [
    "# Assumptions:"
   ]
  },
  {
   "cell_type": "markdown",
   "metadata": {},
   "source": [
    "### Logistic Regression:\n",
    "\n",
    "- We assumed that the variables are independent of each other \n",
    "- Another assumption made is that there is no multicollinearity between the independent variables\n",
    "- A final assumption is that there is a linear relationship between each independent variable and the logit transformation of the dependent variable"
   ]
  },
  {
   "cell_type": "markdown",
   "metadata": {},
   "source": [
    "### Decision Tree, Random Forest and XGBoost:\n",
    "\n",
    "- It is assumed that overfitting has been addressed by optimization and the tuning of the parameters."
   ]
  },
  {
   "cell_type": "markdown",
   "metadata": {},
   "source": [
    "### Neural Network: \n",
    "- It is assumed that all columns and rows are independent"
   ]
  },
  {
   "cell_type": "code",
   "execution_count": null,
   "metadata": {},
   "outputs": [],
   "source": []
  }
 ],
 "metadata": {
  "kernelspec": {
   "display_name": "Python 3",
   "language": "python",
   "name": "python3"
  },
  "language_info": {
   "codemirror_mode": {
    "name": "ipython",
    "version": 3
   },
   "file_extension": ".py",
   "mimetype": "text/x-python",
   "name": "python",
   "nbconvert_exporter": "python",
   "pygments_lexer": "ipython3",
   "version": "3.7.6"
  }
 },
 "nbformat": 4,
 "nbformat_minor": 4
}
